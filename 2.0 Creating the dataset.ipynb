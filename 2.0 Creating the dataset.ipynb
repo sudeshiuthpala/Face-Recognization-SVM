{
 "cells": [
  {
   "cell_type": "markdown",
   "metadata": {},
   "source": [
    "1. face recognisation\n",
    "2. features - pixcels of face(it is not always correct for all problems-feature extraction may be wanted such a problems)\n",
    "3. labels- barack obama(0),Donald trump(1),Bush(2)\n",
    "4. labels walata wada wena ekk nm thawa label ekk(3) dala wena kattiyage photo danawa\n",
    "\n",
    "<br>\n",
    "<b>PIPELINE</b>\n",
    "<br>\n",
    "<br>\n",
    "- application ekata algorithm combination ekk use karanawa \n",
    "<br>\n",
    "- SVM eka parama train nokara preprocessing part ekk karanawa\n",
    "<br>\n",
    "- Principle component Analysis(PCA)\n",
    "<img src=\"1.jpg\"/>\n",
    "<br>\n",
    "2500 ma danna na flat kalama eken 150 features gannawa(not random)\n",
    "<br>\n",
    "how to get 150?????\n",
    "<img src=\"2.jpg\"/>\n",
    "get a same size from picture by <b>Harr Cascade Classifier</b>=> convert to 50  x 50\n",
    "<img src=\"3.jpg\"/>\n",
    "<img src=\"4.jpg\"/>\n",
    "<img src=\"5.jpg\"/>"
   ]
  },
  {
   "cell_type": "code",
   "execution_count": 1,
   "metadata": {},
   "outputs": [],
   "source": [
    "#lod images 1 by 1\n",
    "#convert to gray scale\n",
    "#face detection - face crop\n",
    "#50x50 resize\n",
    "#flatten to 2500\n",
    "#dataset append"
   ]
  },
  {
   "cell_type": "code",
   "execution_count": 1,
   "metadata": {},
   "outputs": [
    {
     "name": "stdout",
     "output_type": "stream",
     "text": [
      "['Barack Obama', 'Donald Trump', 'George W Bush']\n",
      "[0 1 2]\n",
      "{'Barack Obama': 0, 'Donald Trump': 1, 'George W Bush': 2}\n"
     ]
    }
   ],
   "source": [
    "import os\n",
    "import numpy as np\n",
    "\n",
    "data_path=r'train_data'\n",
    "\n",
    "labels=os.listdir(data_path)\n",
    "categories=np.arange(len(labels))\n",
    "category_dict=dict(zip(labels,categories))\n",
    "\n",
    "print(labels)\n",
    "print(categories)\n",
    "print(category_dict)"
   ]
  },
  {
   "cell_type": "code",
   "execution_count": 3,
   "metadata": {},
   "outputs": [],
   "source": [
    "import cv2\n",
    "\n",
    "face_classifier=cv2.CascadeClassifier('haarcascade_frontalface_default.xml')#face eka crop karaganna use karana file eka\n",
    "#eka object ekk classify karagnna wen karaganna\n",
    "# face eke x-cordinate,y-cordinate ,width,height\n",
    "data=[]\n",
    "target=[]\n",
    "\n",
    "for label in labels:\n",
    "    \n",
    "    imgs_path=os.path.join(data_path,label)\n",
    "    img_names=os.listdir(imgs_path)\n",
    "    \n",
    "    for img_name in img_names:\n",
    "        \n",
    "        img_path=os.path.join(imgs_path,img_name)\n",
    "        #look image by image\n",
    "        img=cv2.imread(img_path)\n",
    "    \n",
    "        gray=cv2.cvtColor(img,cv2.COLOR_BGR2GRAY)\n",
    "        faces=face_classifier.detectMultiScale(gray)#faces in image with x,y,width,height => 2D array\n",
    "        #no of rows are defend on faces in each image\n",
    "        #print(faces)\n",
    "        \n",
    "        try:\n",
    "        \n",
    "            for (x,y,w,h) in faces:\n",
    "                #cv2.rectangle(img,(x,y),(x+w,y+h),(0,255,0),2)\n",
    "\n",
    "                cropped_face=gray[y:y+h,x:x+w]#\n",
    "                cv2.imshow('cropped_face',cropped_face)\n",
    "                k=cv2.waitKey(0)\n",
    "\n",
    "                if(k==121):\n",
    "                    cropped_face=cv2.resize(cropped_face,(50,50))\n",
    "                    data.append(cropped_face)\n",
    "                    target.append(category_dict[label])\n",
    "\n",
    "                else:\n",
    "\n",
    "                    pass       \n",
    "        except:\n",
    "           \n",
    "            pass\n",
    "cv2.destroyAllWindows()"
   ]
  },
  {
   "cell_type": "code",
   "execution_count": 4,
   "metadata": {},
   "outputs": [],
   "source": [
    "data=np.array(data)\n",
    "data=data.reshape(data.shape[0],data.shape[1]*data.shape[2])\n",
    "target=np.array(target)\n",
    "\n",
    "np.save('data',data)\n",
    "np.save('target',target)"
   ]
  },
  {
   "cell_type": "code",
   "execution_count": 5,
   "metadata": {},
   "outputs": [
    {
     "data": {
      "text/plain": [
       "(324, 2500)"
      ]
     },
     "execution_count": 5,
     "metadata": {},
     "output_type": "execute_result"
    }
   ],
   "source": [
    "np.array(data).shape"
   ]
  },
  {
   "cell_type": "code",
   "execution_count": 6,
   "metadata": {},
   "outputs": [
    {
     "name": "stdout",
     "output_type": "stream",
     "text": [
      "(324, 2500)\n",
      "(324,)\n"
     ]
    }
   ],
   "source": [
    "print(data.shape)\n",
    "print(target.shape)"
   ]
  },
  {
   "cell_type": "code",
   "execution_count": 7,
   "metadata": {},
   "outputs": [
    {
     "name": "stdout",
     "output_type": "stream",
     "text": [
      "Counter({1: 123, 2: 114, 0: 87})\n"
     ]
    }
   ],
   "source": [
    "import collections\n",
    "print(collections.Counter(target))"
   ]
  },
  {
   "cell_type": "code",
   "execution_count": null,
   "metadata": {},
   "outputs": [],
   "source": []
  }
 ],
 "metadata": {
  "kernelspec": {
   "display_name": "Python 3",
   "language": "python",
   "name": "python3"
  },
  "language_info": {
   "codemirror_mode": {
    "name": "ipython",
    "version": 3
   },
   "file_extension": ".py",
   "mimetype": "text/x-python",
   "name": "python",
   "nbconvert_exporter": "python",
   "pygments_lexer": "ipython3",
   "version": "3.8.5"
  }
 },
 "nbformat": 4,
 "nbformat_minor": 2
}
